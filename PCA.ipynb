{
 "cells": [
  {
   "cell_type": "markdown",
   "metadata": {},
   "source": [
    "### Principal Component Analysis - Through SVD  From Scratch"
   ]
  },
  {
   "cell_type": "code",
   "execution_count": 112,
   "metadata": {},
   "outputs": [],
   "source": [
    "import numpy as np\n",
    "import math\n",
    "np.random.seed(123)"
   ]
  },
  {
   "cell_type": "code",
   "execution_count": 2,
   "metadata": {},
   "outputs": [],
   "source": [
    "mu_vec1 = np.array([0,0,0])\n",
    "cov_mat1 = np.array([[1,0,0],[0,1,0],[0,0,1]])\n",
    "class1_sample = np.random.multivariate_normal(mu_vec1, cov_mat1, 20).T\n",
    "\n",
    "mu_vec2 = np.array([1,1,1])\n",
    "cov_mat2 = np.array([[1,0,0],[0,1,0],[0,0,1]])\n",
    "class2_sample = np.random.multivariate_normal(mu_vec2, cov_mat2, 20).T"
   ]
  },
  {
   "cell_type": "code",
   "execution_count": 8,
   "metadata": {},
   "outputs": [
    {
     "data": {
      "text/plain": [
       "(3, 20)"
      ]
     },
     "execution_count": 8,
     "metadata": {},
     "output_type": "execute_result"
    }
   ],
   "source": [
    "class1_sample.shape"
   ]
  },
  {
   "cell_type": "markdown",
   "metadata": {},
   "source": [
    "#### Computing the Covariance Matrix - Example"
   ]
  },
  {
   "cell_type": "code",
   "execution_count": 164,
   "metadata": {},
   "outputs": [
    {
     "name": "stdout",
     "output_type": "stream",
     "text": [
      "(5, 3)\n"
     ]
    }
   ],
   "source": [
    "# For the below Array\n",
    "X = np.array([[90, 60, 90],\n",
    "              [90, 90, 30],\n",
    "              [60, 60, 60],\n",
    "              [60, 60, 90],\n",
    "              [30, 30, 30],])\n",
    "print(X.shape)"
   ]
  },
  {
   "cell_type": "code",
   "execution_count": 61,
   "metadata": {},
   "outputs": [
    {
     "name": "stdout",
     "output_type": "stream",
     "text": [
      "Shape of deviation Matrix is  (3, 3)\n",
      "Covariance matrix is\n",
      " [[504. 360. 180.]\n",
      " [360. 360.   0.]\n",
      " [180.   0. 720.]]\n"
     ]
    }
   ],
   "source": [
    "\n",
    "# V = \t\n",
    "# Σ x12 / N    \t    Σ x1 x2 / N    \t. . .    \tΣ x1 xc / N\t\n",
    "# Σ x2 x1 / N    \tΣ x22 / N    \t. . .    \tΣ x2 xc / N\n",
    "# . . .    \t. . .    \t. . .    \t. . .\n",
    "# Σ xc x1 / N    \tΣ xc x2 / N    \t. . .    \tΣ xc2 / N\n",
    "\n",
    "#Create a deviation Matrix ----->  x = X - 11'X ( 1 / n )\n",
    "\n",
    "#ones array is a n X 1 vector of ones\n",
    "ones_array = np.ones((5, 1), dtype=np.int32)\n",
    "ones_one_t= ones_array.dot(ones_array.transpose())\n",
    "\n",
    "x= X - ones_one_t.dot(X)*1/5\n",
    "\n",
    "# Multiple difference Matrix with its Transpose to get the deviation matrix\n",
    "dev_matrix = x.transpose().dot(x)\n",
    "print(\"Shape of deviation Matrix is \", dev_matrix.shape)\n",
    "\n",
    "\n",
    "#Covariance matrix    ---- >   V = x'x ( 1 / n )\n",
    "V = dev_matrix*(1/5)\n",
    "print(\"Covariance matrix is\\n\", V)"
   ]
  },
  {
   "cell_type": "markdown",
   "metadata": {},
   "source": [
    "### PCA Steps"
   ]
  },
  {
   "cell_type": "markdown",
   "metadata": {},
   "source": [
    "1. Take the whole dataset consisting of d+1 dimensions and ignore the labels such that our new dataset becomes d dimensional.\n",
    "2. Compute the mean of every dimension of the whole dataset.\n",
    "3. Compute the covariance matrix of the whole dataset ( sometimes also called as the variance-covariance matrix)\n",
    "4. Compute Eigenvectors and corresponding Eigenvalues\n",
    "5. Sort the eigenvectors by decreasing eigenvalues and choose k eigenvectors with the largest eigenvalues to form a d × k dimensional matrix W.\n",
    "6. Transform the samples onto the new subspace. W is a d X K matrix\n",
    "    y = W′ × x"
   ]
  },
  {
   "cell_type": "markdown",
   "metadata": {},
   "source": [
    "#### Demonstrate that the S matrix in the SVD is a diagnol matrix of singular value(sqrt(eigen values) of A X t(A)) in D.Order\n"
   ]
  },
  {
   "cell_type": "code",
   "execution_count": 241,
   "metadata": {},
   "outputs": [
    {
     "name": "stdout",
     "output_type": "stream",
     "text": [
      "The S matrix is \n",
      "  [[249.53284904   0.           0.        ]\n",
      " [  0.          56.2059804    0.        ]\n",
      " [  0.           0.          16.56034466]]\n",
      "\n",
      "The Eigen values of the A X A_transpose are  [6.22666428e+04 2.74245015e+02 3.15911223e+03 1.62665088e-13\n",
      " 1.72168893e-28]\n",
      "\n",
      "The Square root of the Eigen values of the A X A_transpose are \n",
      "249.53284904341118\n",
      "16.56034465876612\n",
      "56.20598040298784\n",
      "4.0331760235843843e-07\n",
      "1.312131443737577e-14\n"
     ]
    }
   ],
   "source": [
    "U, s, V = np.linalg.svd(X)\n",
    "S= np.diag(s)\n",
    "print(\"The S matrix is \\n \", S)\n",
    "\n",
    "# \n",
    "mat=X.dot(X.transpose())\n",
    "w,v=np.linalg.eig(mat)\n",
    "print(\"\\nThe Eigen values of the A X A_transpose are \", w)\n",
    "\n",
    "print(\"\\nThe Square root of the Eigen values of the A X A_transpose are \")\n",
    "for w in w:\n",
    "    print(math.sqrt(w))"
   ]
  },
  {
   "cell_type": "code",
   "execution_count": 244,
   "metadata": {},
   "outputs": [
    {
     "data": {
      "text/plain": [
       "array([[90., 60., 90.],\n",
       "       [90., 90., 30.],\n",
       "       [60., 60., 60.],\n",
       "       [60., 60., 90.],\n",
       "       [30., 30., 30.]])"
      ]
     },
     "execution_count": 244,
     "metadata": {},
     "output_type": "execute_result"
    }
   ],
   "source": [
    "#Getting back the original Matrix by taking all the SVD Components\n",
    "\n",
    "Z=np.zeros((X.shape[0],X.shape[1]))\n",
    "Z[:-2,:] = S\n",
    "U.dot(Z.dot(V))"
   ]
  },
  {
   "cell_type": "code",
   "execution_count": 266,
   "metadata": {},
   "outputs": [
    {
     "data": {
      "text/plain": [
       "array([[90., 60., 90.],\n",
       "       [90., 90., 30.],\n",
       "       [60., 60., 60.],\n",
       "       [60., 60., 90.],\n",
       "       [30., 30., 30.]])"
      ]
     },
     "execution_count": 266,
     "metadata": {},
     "output_type": "execute_result"
    }
   ],
   "source": [
    "#Getting back the original Matrix by taking only the top-3 eigen vector SVD Components\n",
    "U[:,:3].dot(S[:3,:3].dot(V[:3,]))"
   ]
  },
  {
   "cell_type": "code",
   "execution_count": 267,
   "metadata": {},
   "outputs": [
    {
     "data": {
      "text/plain": [
       "array([[80.77681996, 68.78746566, 91.53548819],\n",
       "       [90.38374858, 89.63438018, 29.93611299],\n",
       "       [63.69648152, 56.47814481, 59.38460447],\n",
       "       [66.27696838, 54.01956334, 88.95500134],\n",
       "       [31.84824076, 28.23907241, 29.69230224]])"
      ]
     },
     "execution_count": 267,
     "metadata": {},
     "output_type": "execute_result"
    }
   ],
   "source": [
    "#Getting back the original Matrix by taking only the top-2 eigen vector SVD Components\n",
    "U[:,:2].dot(S[:2,:2].dot(V[:2,]))"
   ]
  },
  {
   "cell_type": "markdown",
   "metadata": {},
   "source": [
    "#### From the above example we can infer that the top 'K' components approximates the original matrix"
   ]
  },
  {
   "cell_type": "code",
   "execution_count": 308,
   "metadata": {},
   "outputs": [
    {
     "data": {
      "text/plain": [
       "array([[-0.55752795,  0.29800626],\n",
       "       [-0.48940614, -0.83179009],\n",
       "       [-0.41590784,  0.02929798]])"
      ]
     },
     "execution_count": 308,
     "metadata": {},
     "output_type": "execute_result"
    }
   ],
   "source": [
    "U[:3,:2]"
   ]
  },
  {
   "cell_type": "code",
   "execution_count": null,
   "metadata": {},
   "outputs": [],
   "source": []
  },
  {
   "cell_type": "code",
   "execution_count": null,
   "metadata": {},
   "outputs": [],
   "source": []
  },
  {
   "cell_type": "code",
   "execution_count": null,
   "metadata": {},
   "outputs": [],
   "source": []
  },
  {
   "cell_type": "code",
   "execution_count": null,
   "metadata": {},
   "outputs": [],
   "source": []
  },
  {
   "cell_type": "code",
   "execution_count": null,
   "metadata": {},
   "outputs": [],
   "source": []
  },
  {
   "cell_type": "code",
   "execution_count": null,
   "metadata": {},
   "outputs": [],
   "source": []
  }
 ],
 "metadata": {
  "kernelspec": {
   "display_name": "Python 3",
   "language": "python",
   "name": "python3"
  },
  "language_info": {
   "codemirror_mode": {
    "name": "ipython",
    "version": 3
   },
   "file_extension": ".py",
   "mimetype": "text/x-python",
   "name": "python",
   "nbconvert_exporter": "python",
   "pygments_lexer": "ipython3",
   "version": "3.6.5"
  }
 },
 "nbformat": 4,
 "nbformat_minor": 2
}
